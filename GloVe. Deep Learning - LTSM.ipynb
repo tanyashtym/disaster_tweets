{
 "cells": [
  {
   "cell_type": "code",
   "execution_count": 20,
   "metadata": {},
   "outputs": [],
   "source": [
    "#import libraries \n",
    "from __future__ import print_function\n",
    "\n",
    "from keras.preprocessing import sequence\n",
    "from keras.models import Sequential\n",
    "from keras.layers import Dense, Dropout, Activation,Input, add, concatenate, BatchNormalization\n",
    "from keras.layers import Embedding,SpatialDropout1D, LSTM, Bidirectional, Dot\n",
    "from keras.layers import Conv1D, GlobalMaxPooling1D,GlobalAveragePooling1D\n",
    "from keras.initializers import Constant\n",
    "from keras.optimizers import Adam\n",
    "\n",
    "import pandas as pd\n",
    "import numpy as np\n",
    "import keras \n",
    "import nltk\n",
    "from bs4 import BeautifulSoup\n",
    "import string\n",
    "from nltk.corpus import stopwords\n",
    "from nltk.tokenize import word_tokenize, TweetTokenizer\n",
    "from nltk.stem import WordNetLemmatizer\n",
    "from nltk.stem.porter import PorterStemmer\n",
    "from sklearn.feature_extraction.text import CountVectorizer,TfidfVectorizer\n",
    "import helpers\n",
    "from tqdm import tqdm\n",
    "import re\n",
    "from zeugma.embeddings import EmbeddingTransformer\n",
    "from sklearn.model_selection import train_test_split\n",
    "import tensorflow.compat.v1 as tf\n",
    "import matplotlib.pyplot as plt\n",
    "\n",
    "from keras.preprocessing.text import Tokenizer\n",
    "from keras.preprocessing.sequence import pad_sequences\n",
    "\n",
    "stop=set(stopwords.words('english'))"
   ]
  },
  {
   "cell_type": "markdown",
   "metadata": {},
   "source": [
    "### Data preprocessing + GloVE\n",
    "\n",
    "https://www.kaggle.com/shahules/basic-eda-cleaning-and-glove#GloVe-for-Vectorization <br>\n",
    "https://medium.com/@sarin.samarth07/glove-word-embeddings-with-keras-python-code-52131b0c8b1d <br>\n",
    "https://www.kaggle.com/benfraser/rnn-lstm-implementation"
   ]
  },
  {
   "cell_type": "markdown",
   "metadata": {},
   "source": [
    "Now let do data preprocessing and also fix labels. For this we use <b>helpers.py</b>. Put it in the same folder as this Jupyter notebook."
   ]
  },
  {
   "cell_type": "code",
   "execution_count": 3,
   "metadata": {},
   "outputs": [],
   "source": [
    "train_data = pd.read_csv(\"data/train.csv\")\n",
    "test_data = pd.read_csv(\"data/test.csv\")\n",
    "\n",
    "#fix_labels\n",
    "train_data = helpers.fix_labels(train_data)\n",
    "\n",
    "#preprocessing\n",
    "train_data['text'] = train_data['text'].apply(lambda x : helpers.data_preprocessing(x))\n",
    "test_data['text'] = test_data['text'].apply(lambda x : helpers.data_preprocessing(x))\n",
    "\n"
   ]
  },
  {
   "cell_type": "code",
   "execution_count": 4,
   "metadata": {},
   "outputs": [],
   "source": [
    "#tokenize tweets \n",
    "MAX_LEN= 50\n",
    "MAX_WORDS = 10000\n",
    "emb_dim = 100\n",
    "tokenizer_obj=Tokenizer(num_words = MAX_WORDS)\n",
    "\n",
    "tokenizer_obj.fit_on_texts(train_data['text'])\n",
    "sequences=tokenizer_obj.texts_to_sequences(train_data['text'])\n",
    "\n",
    "tweet_pad=pad_sequences(sequences,maxlen=MAX_LEN)\n",
    "\n",
    "word_index=tokenizer_obj.word_index\n",
    "vocab_size =len(word_index)+1"
   ]
  },
  {
   "cell_type": "code",
   "execution_count": 5,
   "metadata": {},
   "outputs": [],
   "source": [
    "sequences=tokenizer_obj.texts_to_sequences(test_data['text'])\n",
    "test_tweet_pad=pad_sequences(sequences,maxlen=MAX_LEN)"
   ]
  },
  {
   "cell_type": "code",
   "execution_count": 6,
   "metadata": {},
   "outputs": [
    {
     "data": {
      "text/plain": [
       "(7613, 50)"
      ]
     },
     "execution_count": 6,
     "metadata": {},
     "output_type": "execute_result"
    }
   ],
   "source": [
    "tweet_pad.shape"
   ]
  },
  {
   "cell_type": "code",
   "execution_count": 16,
   "metadata": {},
   "outputs": [],
   "source": [
    "X_train, X_val, y_train, y_val = train_test_split(tweet_pad, train_data['target_fixed'], test_size=0.25, random_state=12, stratify=train_data['target'])"
   ]
  },
  {
   "cell_type": "markdown",
   "metadata": {},
   "source": [
    "#### LSTM\n",
    "https://www.kaggle.com/benfraser/rnn-lstm-implementation"
   ]
  },
  {
   "cell_type": "markdown",
   "metadata": {},
   "source": [
    "#### GloVe LSTM"
   ]
  },
  {
   "cell_type": "code",
   "execution_count": 9,
   "metadata": {},
   "outputs": [],
   "source": [
    "#GloVe embeddings\n",
    "embedding_dict={}\n",
    "with open('vectors/glove.6B.100d.txt','r') as f:\n",
    "    for line in f:\n",
    "        values=line.split()\n",
    "        word=values[0]\n",
    "        vectors=np.asarray(values[1:],'float32')\n",
    "        embedding_dict[word]=vectors\n",
    "f.close()"
   ]
  },
  {
   "cell_type": "code",
   "execution_count": 10,
   "metadata": {},
   "outputs": [
    {
     "name": "stdout",
     "output_type": "stream",
     "text": [
      "400000\n"
     ]
    }
   ],
   "source": [
    "print(len(embedding_dict))"
   ]
  },
  {
   "cell_type": "code",
   "execution_count": 11,
   "metadata": {},
   "outputs": [
    {
     "name": "stderr",
     "output_type": "stream",
     "text": [
      "100%|██████████| 14987/14987 [00:00<00:00, 314025.40it/s]\n"
     ]
    }
   ],
   "source": [
    "#Here we create a matrix which\n",
    "#contains only the words present in our vocabulary and their corresponding embedding vector.\n",
    "emb_dim = 100\n",
    "embedding_matrix=np.zeros((MAX_WORDS,emb_dim))\n",
    "\n",
    "for word,i in tqdm(word_index.items()):\n",
    "    if (i < MAX_WORDS):\n",
    "        embedding_value = embedding_dict.get(word)\n",
    "        if embedding_value is not None:\n",
    "            embedding_matrix[i] = embedding_value"
   ]
  },
  {
   "cell_type": "code",
   "execution_count": 12,
   "metadata": {},
   "outputs": [],
   "source": [
    "def LSTM_GloVe():\n",
    "    \"\"\" RNN with GloVe embeddings and LSTM cells with dropout regularisation \"\"\"\n",
    "    \n",
    "    \n",
    "\n",
    "    model = Sequential()\n",
    "    \n",
    "    # embedding layer with glove embeddings\n",
    "    model.add(Embedding(input_dim=MAX_WORDS, output_dim=emb_dim, \n",
    "                        embeddings_initializer=Constant(embedding_matrix), \n",
    "                        input_length=MAX_LEN, trainable=False))\n",
    "    \n",
    "    model.add(SpatialDropout1D(0.2))\n",
    "    \n",
    "    # double LSTM layers - dim of 128 (initially 64)\n",
    "    model.add(Bidirectional(LSTM(64, recurrent_dropout=0.5, dropout=0.5, return_sequences=True)))\n",
    "    model.add(Bidirectional(LSTM(64, recurrent_dropout=0.5, dropout=0.5)))\n",
    "    \n",
    "    # dense layer relu activation\n",
    "    model.add(Dense(64, activation='relu'))\n",
    "    model.add(Dropout(0.5)) #no BN in initial version, no dropout in initial\n",
    "    # output sigmoid layer\n",
    "    model.add(Dense(1, activation='sigmoid'))\n",
    "    \n",
    "    # compile model and return\n",
    "    model.compile(optimizer=keras.optimizers.Adam(learning_rate=5e-4), \n",
    "                  loss='binary_crossentropy', metrics=['accuracy',helpers.f1_m ,helpers.precision_m, helpers.recall_m])\n",
    "    return model\n"
   ]
  },
  {
   "cell_type": "code",
   "execution_count": 14,
   "metadata": {},
   "outputs": [
    {
     "name": "stdout",
     "output_type": "stream",
     "text": [
      "Model: \"sequential_3\"\n",
      "_________________________________________________________________\n",
      "Layer (type)                 Output Shape              Param #   \n",
      "=================================================================\n",
      "embedding_2 (Embedding)      (None, 50, 100)           1000000   \n",
      "_________________________________________________________________\n",
      "spatial_dropout1d_2 (Spatial (None, 50, 100)           0         \n",
      "_________________________________________________________________\n",
      "bidirectional_3 (Bidirection (None, 50, 128)           84480     \n",
      "_________________________________________________________________\n",
      "bidirectional_4 (Bidirection (None, 128)               98816     \n",
      "_________________________________________________________________\n",
      "dense_3 (Dense)              (None, 64)                8256      \n",
      "_________________________________________________________________\n",
      "dropout_2 (Dropout)          (None, 64)                0         \n",
      "_________________________________________________________________\n",
      "dense_4 (Dense)              (None, 1)                 65        \n",
      "=================================================================\n",
      "Total params: 1,191,617\n",
      "Trainable params: 191,617\n",
      "Non-trainable params: 1,000,000\n",
      "_________________________________________________________________\n"
     ]
    }
   ],
   "source": [
    "LSTM_glove = LSTM_GloVe()\n",
    "LSTM_glove.summary()"
   ]
  },
  {
   "cell_type": "code",
   "execution_count": 17,
   "metadata": {},
   "outputs": [
    {
     "name": "stdout",
     "output_type": "stream",
     "text": [
      "Train on 5709 samples, validate on 1904 samples\n",
      "Epoch 1/130\n",
      "5709/5709 [==============================] - 18s 3ms/step - loss: 0.6665 - accuracy: 0.5966 - f1_m: 0.3255 - precision_m: 0.6049 - recall_m: 0.2391 - val_loss: 0.5748 - val_accuracy: 0.7679 - val_f1_m: 0.6709 - val_precision_m: 0.8469 - val_recall_m: 0.5573\n",
      "Epoch 2/130\n",
      "5709/5709 [==============================] - 14s 3ms/step - loss: 0.5751 - accuracy: 0.7203 - f1_m: 0.6262 - precision_m: 0.7265 - recall_m: 0.5609 - val_loss: 0.4829 - val_accuracy: 0.7862 - val_f1_m: 0.7527 - val_precision_m: 0.7419 - val_recall_m: 0.7649\n",
      "Epoch 3/130\n",
      "5709/5709 [==============================] - 14s 3ms/step - loss: 0.5346 - accuracy: 0.7458 - f1_m: 0.6793 - precision_m: 0.7346 - recall_m: 0.6364 - val_loss: 0.4617 - val_accuracy: 0.8020 - val_f1_m: 0.7501 - val_precision_m: 0.8102 - val_recall_m: 0.6999\n",
      "Epoch 4/130\n",
      "5709/5709 [==============================] - 15s 3ms/step - loss: 0.5206 - accuracy: 0.7593 - f1_m: 0.6879 - precision_m: 0.7704 - recall_m: 0.6290 - val_loss: 0.4605 - val_accuracy: 0.7967 - val_f1_m: 0.7516 - val_precision_m: 0.7848 - val_recall_m: 0.7234\n",
      "Epoch 5/130\n",
      "5709/5709 [==============================] - 15s 3ms/step - loss: 0.5138 - accuracy: 0.7604 - f1_m: 0.6940 - precision_m: 0.7653 - recall_m: 0.6398 - val_loss: 0.4639 - val_accuracy: 0.7941 - val_f1_m: 0.7545 - val_precision_m: 0.7673 - val_recall_m: 0.7442\n",
      "Epoch 6/130\n",
      "5709/5709 [==============================] - 14s 2ms/step - loss: 0.5003 - accuracy: 0.7690 - f1_m: 0.7026 - precision_m: 0.7783 - recall_m: 0.6454 - val_loss: 0.4594 - val_accuracy: 0.7962 - val_f1_m: 0.7550 - val_precision_m: 0.7748 - val_recall_m: 0.7392\n",
      "Epoch 7/130\n",
      "5709/5709 [==============================] - 11s 2ms/step - loss: 0.4910 - accuracy: 0.7732 - f1_m: 0.7096 - precision_m: 0.7876 - recall_m: 0.6500 - val_loss: 0.4578 - val_accuracy: 0.7988 - val_f1_m: 0.7567 - val_precision_m: 0.7803 - val_recall_m: 0.7368\n",
      "Epoch 8/130\n",
      "5709/5709 [==============================] - 11s 2ms/step - loss: 0.5095 - accuracy: 0.7592 - f1_m: 0.6920 - precision_m: 0.7611 - recall_m: 0.6393 - val_loss: 0.4514 - val_accuracy: 0.8015 - val_f1_m: 0.7573 - val_precision_m: 0.7894 - val_recall_m: 0.7305\n",
      "Epoch 9/130\n",
      "5709/5709 [==============================] - 12s 2ms/step - loss: 0.4924 - accuracy: 0.7772 - f1_m: 0.7169 - precision_m: 0.7862 - recall_m: 0.6624 - val_loss: 0.4576 - val_accuracy: 0.7904 - val_f1_m: 0.7517 - val_precision_m: 0.7585 - val_recall_m: 0.7479\n",
      "Epoch 10/130\n",
      "5709/5709 [==============================] - 11s 2ms/step - loss: 0.4957 - accuracy: 0.7747 - f1_m: 0.7127 - precision_m: 0.7765 - recall_m: 0.6630 - val_loss: 0.4495 - val_accuracy: 0.8083 - val_f1_m: 0.7637 - val_precision_m: 0.8042 - val_recall_m: 0.7307\n",
      "Epoch 11/130\n",
      "5709/5709 [==============================] - 12s 2ms/step - loss: 0.5024 - accuracy: 0.7672 - f1_m: 0.7034 - precision_m: 0.7729 - recall_m: 0.6501 - val_loss: 0.4452 - val_accuracy: 0.8067 - val_f1_m: 0.7610 - val_precision_m: 0.8036 - val_recall_m: 0.7257\n",
      "Epoch 12/130\n",
      "5709/5709 [==============================] - 11s 2ms/step - loss: 0.4885 - accuracy: 0.7789 - f1_m: 0.7206 - precision_m: 0.7874 - recall_m: 0.6674 - val_loss: 0.4545 - val_accuracy: 0.7920 - val_f1_m: 0.7535 - val_precision_m: 0.7610 - val_recall_m: 0.7490\n",
      "Epoch 13/130\n",
      "5709/5709 [==============================] - 12s 2ms/step - loss: 0.4970 - accuracy: 0.7683 - f1_m: 0.7081 - precision_m: 0.7695 - recall_m: 0.6612 - val_loss: 0.4426 - val_accuracy: 0.8125 - val_f1_m: 0.7641 - val_precision_m: 0.8215 - val_recall_m: 0.7171\n",
      "Epoch 14/130\n",
      "5709/5709 [==============================] - 12s 2ms/step - loss: 0.4931 - accuracy: 0.7712 - f1_m: 0.7058 - precision_m: 0.7815 - recall_m: 0.6478 - val_loss: 0.4434 - val_accuracy: 0.8083 - val_f1_m: 0.7634 - val_precision_m: 0.8034 - val_recall_m: 0.7306\n",
      "Epoch 15/130\n",
      "5709/5709 [==============================] - 11s 2ms/step - loss: 0.4825 - accuracy: 0.7784 - f1_m: 0.7190 - precision_m: 0.7837 - recall_m: 0.6681 - val_loss: 0.4464 - val_accuracy: 0.8020 - val_f1_m: 0.7602 - val_precision_m: 0.7850 - val_recall_m: 0.7394\n",
      "Epoch 16/130\n",
      "5709/5709 [==============================] - 11s 2ms/step - loss: 0.4882 - accuracy: 0.7782 - f1_m: 0.7137 - precision_m: 0.7887 - recall_m: 0.6546 - val_loss: 0.4442 - val_accuracy: 0.8062 - val_f1_m: 0.7631 - val_precision_m: 0.7960 - val_recall_m: 0.7356\n",
      "Epoch 17/130\n",
      "5709/5709 [==============================] - 12s 2ms/step - loss: 0.4847 - accuracy: 0.7737 - f1_m: 0.7083 - precision_m: 0.7877 - recall_m: 0.6470 - val_loss: 0.4488 - val_accuracy: 0.8030 - val_f1_m: 0.7630 - val_precision_m: 0.7828 - val_recall_m: 0.7466\n",
      "Epoch 18/130\n",
      "5709/5709 [==============================] - 11s 2ms/step - loss: 0.4804 - accuracy: 0.7805 - f1_m: 0.7171 - precision_m: 0.7905 - recall_m: 0.6591 - val_loss: 0.4477 - val_accuracy: 0.8067 - val_f1_m: 0.7648 - val_precision_m: 0.7936 - val_recall_m: 0.7404\n",
      "Epoch 19/130\n",
      "5709/5709 [==============================] - 12s 2ms/step - loss: 0.4777 - accuracy: 0.7879 - f1_m: 0.7248 - precision_m: 0.8097 - recall_m: 0.6587 - val_loss: 0.4477 - val_accuracy: 0.8046 - val_f1_m: 0.7661 - val_precision_m: 0.7822 - val_recall_m: 0.7530\n",
      "Epoch 20/130\n",
      "5709/5709 [==============================] - 12s 2ms/step - loss: 0.4773 - accuracy: 0.7839 - f1_m: 0.7242 - precision_m: 0.7945 - recall_m: 0.6698 - val_loss: 0.4452 - val_accuracy: 0.8072 - val_f1_m: 0.7681 - val_precision_m: 0.7881 - val_recall_m: 0.7516\n",
      "Epoch 21/130\n",
      "5709/5709 [==============================] - 12s 2ms/step - loss: 0.4839 - accuracy: 0.7763 - f1_m: 0.7147 - precision_m: 0.7773 - recall_m: 0.6663 - val_loss: 0.4371 - val_accuracy: 0.8125 - val_f1_m: 0.7676 - val_precision_m: 0.8119 - val_recall_m: 0.7305\n",
      "Epoch 22/130\n",
      "5709/5709 [==============================] - 11s 2ms/step - loss: 0.4768 - accuracy: 0.7765 - f1_m: 0.7111 - precision_m: 0.7885 - recall_m: 0.6519 - val_loss: 0.4440 - val_accuracy: 0.8051 - val_f1_m: 0.7668 - val_precision_m: 0.7828 - val_recall_m: 0.7542\n",
      "Epoch 23/130\n",
      "5709/5709 [==============================] - 11s 2ms/step - loss: 0.4771 - accuracy: 0.7877 - f1_m: 0.7309 - precision_m: 0.7999 - recall_m: 0.6768 - val_loss: 0.4378 - val_accuracy: 0.8120 - val_f1_m: 0.7699 - val_precision_m: 0.8049 - val_recall_m: 0.7409\n",
      "Epoch 24/130\n",
      "5709/5709 [==============================] - 11s 2ms/step - loss: 0.4747 - accuracy: 0.7826 - f1_m: 0.7211 - precision_m: 0.7935 - recall_m: 0.6638 - val_loss: 0.4373 - val_accuracy: 0.8125 - val_f1_m: 0.7730 - val_precision_m: 0.7983 - val_recall_m: 0.7519\n",
      "Epoch 25/130\n",
      "5709/5709 [==============================] - 12s 2ms/step - loss: 0.4723 - accuracy: 0.7877 - f1_m: 0.7311 - precision_m: 0.7942 - recall_m: 0.6805 - val_loss: 0.4363 - val_accuracy: 0.8151 - val_f1_m: 0.7720 - val_precision_m: 0.8125 - val_recall_m: 0.7380\n",
      "Epoch 26/130\n",
      "5709/5709 [==============================] - 13s 2ms/step - loss: 0.4697 - accuracy: 0.7903 - f1_m: 0.7306 - precision_m: 0.8049 - recall_m: 0.6718 - val_loss: 0.4329 - val_accuracy: 0.8146 - val_f1_m: 0.7673 - val_precision_m: 0.8233 - val_recall_m: 0.7209\n",
      "Epoch 27/130\n",
      "5709/5709 [==============================] - 11s 2ms/step - loss: 0.4717 - accuracy: 0.7886 - f1_m: 0.7299 - precision_m: 0.8052 - recall_m: 0.6710 - val_loss: 0.4334 - val_accuracy: 0.8151 - val_f1_m: 0.7674 - val_precision_m: 0.8235 - val_recall_m: 0.7216\n",
      "Epoch 28/130\n",
      "5709/5709 [==============================] - 11s 2ms/step - loss: 0.4670 - accuracy: 0.7881 - f1_m: 0.7312 - precision_m: 0.7981 - recall_m: 0.6776 - val_loss: 0.4362 - val_accuracy: 0.8093 - val_f1_m: 0.7707 - val_precision_m: 0.7907 - val_recall_m: 0.7542\n",
      "Epoch 29/130\n",
      "5709/5709 [==============================] - 12s 2ms/step - loss: 0.4706 - accuracy: 0.7881 - f1_m: 0.7264 - precision_m: 0.7981 - recall_m: 0.6711 - val_loss: 0.4372 - val_accuracy: 0.8120 - val_f1_m: 0.7655 - val_precision_m: 0.8152 - val_recall_m: 0.7244\n",
      "Epoch 30/130\n",
      "5709/5709 [==============================] - 12s 2ms/step - loss: 0.4711 - accuracy: 0.7860 - f1_m: 0.7244 - precision_m: 0.7988 - recall_m: 0.6661 - val_loss: 0.4341 - val_accuracy: 0.8146 - val_f1_m: 0.7694 - val_precision_m: 0.8180 - val_recall_m: 0.7296\n",
      "Epoch 31/130\n",
      "5709/5709 [==============================] - 11s 2ms/step - loss: 0.4662 - accuracy: 0.7907 - f1_m: 0.7323 - precision_m: 0.8012 - recall_m: 0.6775 - val_loss: 0.4340 - val_accuracy: 0.8141 - val_f1_m: 0.7716 - val_precision_m: 0.8092 - val_recall_m: 0.7394\n",
      "Epoch 32/130\n",
      "5709/5709 [==============================] - 11s 2ms/step - loss: 0.4632 - accuracy: 0.7928 - f1_m: 0.7347 - precision_m: 0.8048 - recall_m: 0.6799 - val_loss: 0.4340 - val_accuracy: 0.8130 - val_f1_m: 0.7698 - val_precision_m: 0.8095 - val_recall_m: 0.7371\n",
      "Epoch 33/130\n",
      "5709/5709 [==============================] - 12s 2ms/step - loss: 0.4709 - accuracy: 0.7881 - f1_m: 0.7299 - precision_m: 0.7981 - recall_m: 0.6761 - val_loss: 0.4314 - val_accuracy: 0.8125 - val_f1_m: 0.7670 - val_precision_m: 0.8138 - val_recall_m: 0.7281\n",
      "Epoch 34/130\n",
      "5709/5709 [==============================] - 11s 2ms/step - loss: 0.4593 - accuracy: 0.7944 - f1_m: 0.7345 - precision_m: 0.8118 - recall_m: 0.6746 - val_loss: 0.4378 - val_accuracy: 0.8088 - val_f1_m: 0.7698 - val_precision_m: 0.7904 - val_recall_m: 0.7527\n",
      "Epoch 35/130\n",
      "5709/5709 [==============================] - 11s 2ms/step - loss: 0.4702 - accuracy: 0.7858 - f1_m: 0.7323 - precision_m: 0.7875 - recall_m: 0.6881 - val_loss: 0.4299 - val_accuracy: 0.8188 - val_f1_m: 0.7749 - val_precision_m: 0.8208 - val_recall_m: 0.7366\n",
      "Epoch 36/130\n",
      "5709/5709 [==============================] - 12s 2ms/step - loss: 0.4672 - accuracy: 0.7881 - f1_m: 0.7305 - precision_m: 0.7935 - recall_m: 0.6802 - val_loss: 0.4355 - val_accuracy: 0.8083 - val_f1_m: 0.7682 - val_precision_m: 0.7917 - val_recall_m: 0.7492\n",
      "Epoch 37/130\n",
      "5709/5709 [==============================] - 11s 2ms/step - loss: 0.4661 - accuracy: 0.7914 - f1_m: 0.7342 - precision_m: 0.8059 - recall_m: 0.6772 - val_loss: 0.4328 - val_accuracy: 0.8146 - val_f1_m: 0.7694 - val_precision_m: 0.8173 - val_recall_m: 0.7295\n",
      "Epoch 38/130\n",
      "5709/5709 [==============================] - 11s 2ms/step - loss: 0.4578 - accuracy: 0.7965 - f1_m: 0.7362 - precision_m: 0.8208 - recall_m: 0.6708 - val_loss: 0.4345 - val_accuracy: 0.8130 - val_f1_m: 0.7685 - val_precision_m: 0.8120 - val_recall_m: 0.7320\n",
      "Epoch 39/130\n",
      "5709/5709 [==============================] - 11s 2ms/step - loss: 0.4665 - accuracy: 0.7923 - f1_m: 0.7373 - precision_m: 0.7975 - recall_m: 0.6881 - val_loss: 0.4335 - val_accuracy: 0.8120 - val_f1_m: 0.7739 - val_precision_m: 0.7925 - val_recall_m: 0.7588\n",
      "Epoch 40/130\n",
      "5709/5709 [==============================] - 11s 2ms/step - loss: 0.4632 - accuracy: 0.7907 - f1_m: 0.7331 - precision_m: 0.8070 - recall_m: 0.6761 - val_loss: 0.4321 - val_accuracy: 0.8104 - val_f1_m: 0.7686 - val_precision_m: 0.8007 - val_recall_m: 0.7420\n",
      "Epoch 41/130\n",
      "5709/5709 [==============================] - 12s 2ms/step - loss: 0.4641 - accuracy: 0.7912 - f1_m: 0.7316 - precision_m: 0.8084 - recall_m: 0.6709 - val_loss: 0.4353 - val_accuracy: 0.8125 - val_f1_m: 0.7735 - val_precision_m: 0.7971 - val_recall_m: 0.7543\n",
      "Epoch 42/130\n",
      "5709/5709 [==============================] - 12s 2ms/step - loss: 0.4586 - accuracy: 0.7968 - f1_m: 0.7418 - precision_m: 0.8091 - recall_m: 0.6877 - val_loss: 0.4321 - val_accuracy: 0.8109 - val_f1_m: 0.7684 - val_precision_m: 0.8029 - val_recall_m: 0.7393\n",
      "Epoch 43/130\n",
      "5709/5709 [==============================] - 12s 2ms/step - loss: 0.4599 - accuracy: 0.7949 - f1_m: 0.7395 - precision_m: 0.8094 - recall_m: 0.6838 - val_loss: 0.4285 - val_accuracy: 0.8162 - val_f1_m: 0.7717 - val_precision_m: 0.8190 - val_recall_m: 0.7320\n",
      "Epoch 44/130\n",
      "5709/5709 [==============================] - 11s 2ms/step - loss: 0.4568 - accuracy: 0.7909 - f1_m: 0.7352 - precision_m: 0.8058 - recall_m: 0.6803 - val_loss: 0.4328 - val_accuracy: 0.8136 - val_f1_m: 0.7734 - val_precision_m: 0.8012 - val_recall_m: 0.7502\n",
      "Epoch 45/130\n",
      "5709/5709 [==============================] - 12s 2ms/step - loss: 0.4525 - accuracy: 0.8003 - f1_m: 0.7448 - precision_m: 0.8128 - recall_m: 0.6898 - val_loss: 0.4351 - val_accuracy: 0.8109 - val_f1_m: 0.7679 - val_precision_m: 0.8043 - val_recall_m: 0.7379\n",
      "Epoch 46/130\n",
      "5709/5709 [==============================] - 12s 2ms/step - loss: 0.4511 - accuracy: 0.7965 - f1_m: 0.7392 - precision_m: 0.8149 - recall_m: 0.6799 - val_loss: 0.4327 - val_accuracy: 0.8162 - val_f1_m: 0.7721 - val_precision_m: 0.8173 - val_recall_m: 0.7342\n",
      "Epoch 47/130\n",
      "5709/5709 [==============================] - 11s 2ms/step - loss: 0.4568 - accuracy: 0.7909 - f1_m: 0.7342 - precision_m: 0.8061 - recall_m: 0.6784 - val_loss: 0.4303 - val_accuracy: 0.8167 - val_f1_m: 0.7709 - val_precision_m: 0.8247 - val_recall_m: 0.7258\n",
      "Epoch 48/130\n",
      "5709/5709 [==============================] - 11s 2ms/step - loss: 0.4490 - accuracy: 0.7958 - f1_m: 0.7421 - precision_m: 0.8088 - recall_m: 0.6897 - val_loss: 0.4293 - val_accuracy: 0.8188 - val_f1_m: 0.7740 - val_precision_m: 0.8255 - val_recall_m: 0.7308\n",
      "Epoch 49/130\n",
      "5709/5709 [==============================] - 12s 2ms/step - loss: 0.4423 - accuracy: 0.7959 - f1_m: 0.7426 - precision_m: 0.8039 - recall_m: 0.6931 - val_loss: 0.4320 - val_accuracy: 0.8204 - val_f1_m: 0.7718 - val_precision_m: 0.8413 - val_recall_m: 0.7150\n",
      "Epoch 50/130\n",
      "5709/5709 [==============================] - 11s 2ms/step - loss: 0.4542 - accuracy: 0.7945 - f1_m: 0.7373 - precision_m: 0.8123 - recall_m: 0.6794 - val_loss: 0.4292 - val_accuracy: 0.8151 - val_f1_m: 0.7723 - val_precision_m: 0.8117 - val_recall_m: 0.7393\n",
      "Epoch 51/130\n",
      "5709/5709 [==============================] - 11s 2ms/step - loss: 0.4473 - accuracy: 0.8001 - f1_m: 0.7464 - precision_m: 0.8156 - recall_m: 0.6911 - val_loss: 0.4267 - val_accuracy: 0.8172 - val_f1_m: 0.7713 - val_precision_m: 0.8261 - val_recall_m: 0.7261\n",
      "Epoch 52/130\n",
      "5709/5709 [==============================] - 11s 2ms/step - loss: 0.4520 - accuracy: 0.7945 - f1_m: 0.7385 - precision_m: 0.8076 - recall_m: 0.6839 - val_loss: 0.4288 - val_accuracy: 0.8199 - val_f1_m: 0.7697 - val_precision_m: 0.8455 - val_recall_m: 0.7089\n",
      "Epoch 53/130\n",
      "5709/5709 [==============================] - 11s 2ms/step - loss: 0.4518 - accuracy: 0.8022 - f1_m: 0.7472 - precision_m: 0.8240 - recall_m: 0.6862 - val_loss: 0.4282 - val_accuracy: 0.8193 - val_f1_m: 0.7696 - val_precision_m: 0.8423 - val_recall_m: 0.7114\n",
      "Epoch 54/130\n",
      "5709/5709 [==============================] - 11s 2ms/step - loss: 0.4459 - accuracy: 0.8029 - f1_m: 0.7495 - precision_m: 0.8183 - recall_m: 0.6939 - val_loss: 0.4281 - val_accuracy: 0.8178 - val_f1_m: 0.7705 - val_precision_m: 0.8318 - val_recall_m: 0.7200\n",
      "Epoch 55/130\n",
      "5709/5709 [==============================] - 11s 2ms/step - loss: 0.4435 - accuracy: 0.8061 - f1_m: 0.7513 - precision_m: 0.8235 - recall_m: 0.6945 - val_loss: 0.4298 - val_accuracy: 0.8157 - val_f1_m: 0.7706 - val_precision_m: 0.8208 - val_recall_m: 0.7286\n",
      "Epoch 56/130\n",
      "5709/5709 [==============================] - 11s 2ms/step - loss: 0.4460 - accuracy: 0.7989 - f1_m: 0.7441 - precision_m: 0.8178 - recall_m: 0.6854 - val_loss: 0.4340 - val_accuracy: 0.8146 - val_f1_m: 0.7743 - val_precision_m: 0.8033 - val_recall_m: 0.7503\n",
      "Epoch 57/130\n",
      "5709/5709 [==============================] - 11s 2ms/step - loss: 0.4508 - accuracy: 0.7980 - f1_m: 0.7402 - precision_m: 0.8181 - recall_m: 0.6793 - val_loss: 0.4335 - val_accuracy: 0.8146 - val_f1_m: 0.7740 - val_precision_m: 0.8047 - val_recall_m: 0.7490\n",
      "Epoch 58/130\n",
      "5709/5709 [==============================] - 11s 2ms/step - loss: 0.4392 - accuracy: 0.8024 - f1_m: 0.7513 - precision_m: 0.8101 - recall_m: 0.7059 - val_loss: 0.4311 - val_accuracy: 0.8193 - val_f1_m: 0.7793 - val_precision_m: 0.8110 - val_recall_m: 0.7526\n",
      "Epoch 59/130\n",
      "5709/5709 [==============================] - 12s 2ms/step - loss: 0.4364 - accuracy: 0.8078 - f1_m: 0.7549 - precision_m: 0.8275 - recall_m: 0.6977 - val_loss: 0.4313 - val_accuracy: 0.8188 - val_f1_m: 0.7687 - val_precision_m: 0.8415 - val_recall_m: 0.7096\n",
      "Epoch 60/130\n",
      "5709/5709 [==============================] - 13s 2ms/step - loss: 0.4435 - accuracy: 0.8005 - f1_m: 0.7458 - precision_m: 0.8154 - recall_m: 0.6895 - val_loss: 0.4339 - val_accuracy: 0.8188 - val_f1_m: 0.7755 - val_precision_m: 0.8220 - val_recall_m: 0.7370\n",
      "Epoch 61/130\n"
     ]
    },
    {
     "name": "stdout",
     "output_type": "stream",
     "text": [
      "5709/5709 [==============================] - 12s 2ms/step - loss: 0.4484 - accuracy: 0.8008 - f1_m: 0.7431 - precision_m: 0.8262 - recall_m: 0.6783 - val_loss: 0.4362 - val_accuracy: 0.8183 - val_f1_m: 0.7762 - val_precision_m: 0.8179 - val_recall_m: 0.7419\n",
      "Epoch 62/130\n",
      "5709/5709 [==============================] - 11s 2ms/step - loss: 0.4446 - accuracy: 0.8043 - f1_m: 0.7495 - precision_m: 0.8156 - recall_m: 0.6961 - val_loss: 0.4307 - val_accuracy: 0.8151 - val_f1_m: 0.7722 - val_precision_m: 0.8130 - val_recall_m: 0.7382\n",
      "Epoch 63/130\n",
      "5709/5709 [==============================] - 11s 2ms/step - loss: 0.4398 - accuracy: 0.8038 - f1_m: 0.7496 - precision_m: 0.8224 - recall_m: 0.6924 - val_loss: 0.4320 - val_accuracy: 0.8188 - val_f1_m: 0.7714 - val_precision_m: 0.8333 - val_recall_m: 0.7207\n",
      "Epoch 64/130\n",
      "5709/5709 [==============================] - 11s 2ms/step - loss: 0.4415 - accuracy: 0.7998 - f1_m: 0.7442 - precision_m: 0.8163 - recall_m: 0.6880 - val_loss: 0.4320 - val_accuracy: 0.8193 - val_f1_m: 0.7713 - val_precision_m: 0.8352 - val_recall_m: 0.7193\n",
      "Epoch 65/130\n",
      "5709/5709 [==============================] - 12s 2ms/step - loss: 0.4304 - accuracy: 0.8126 - f1_m: 0.7627 - precision_m: 0.8302 - recall_m: 0.7083 - val_loss: 0.4354 - val_accuracy: 0.8162 - val_f1_m: 0.7656 - val_precision_m: 0.8372 - val_recall_m: 0.7084\n",
      "Epoch 66/130\n",
      "5709/5709 [==============================] - 12s 2ms/step - loss: 0.4316 - accuracy: 0.8040 - f1_m: 0.7484 - precision_m: 0.8203 - recall_m: 0.6913 - val_loss: 0.4332 - val_accuracy: 0.8193 - val_f1_m: 0.7764 - val_precision_m: 0.8212 - val_recall_m: 0.7391\n",
      "Epoch 67/130\n",
      "5709/5709 [==============================] - 11s 2ms/step - loss: 0.4385 - accuracy: 0.8077 - f1_m: 0.7554 - precision_m: 0.8195 - recall_m: 0.7050 - val_loss: 0.4301 - val_accuracy: 0.8188 - val_f1_m: 0.7754 - val_precision_m: 0.8225 - val_recall_m: 0.7366\n",
      "Epoch 68/130\n",
      "5709/5709 [==============================] - 11s 2ms/step - loss: 0.4348 - accuracy: 0.8084 - f1_m: 0.7550 - precision_m: 0.8241 - recall_m: 0.7003 - val_loss: 0.4287 - val_accuracy: 0.8220 - val_f1_m: 0.7761 - val_precision_m: 0.8352 - val_recall_m: 0.7278\n",
      "Epoch 69/130\n",
      "5709/5709 [==============================] - 11s 2ms/step - loss: 0.4314 - accuracy: 0.8094 - f1_m: 0.7575 - precision_m: 0.8248 - recall_m: 0.7037 - val_loss: 0.4320 - val_accuracy: 0.8235 - val_f1_m: 0.7776 - val_precision_m: 0.8399 - val_recall_m: 0.7267\n",
      "Epoch 70/130\n",
      "5709/5709 [==============================] - 11s 2ms/step - loss: 0.4296 - accuracy: 0.8077 - f1_m: 0.7546 - precision_m: 0.8236 - recall_m: 0.6996 - val_loss: 0.4346 - val_accuracy: 0.8214 - val_f1_m: 0.7728 - val_precision_m: 0.8429 - val_recall_m: 0.7156\n",
      "Epoch 71/130\n",
      "5709/5709 [==============================] - 11s 2ms/step - loss: 0.4308 - accuracy: 0.8098 - f1_m: 0.7576 - precision_m: 0.8271 - recall_m: 0.7029 - val_loss: 0.4270 - val_accuracy: 0.8230 - val_f1_m: 0.7785 - val_precision_m: 0.8318 - val_recall_m: 0.7341\n",
      "Epoch 72/130\n",
      "5709/5709 [==============================] - 11s 2ms/step - loss: 0.4381 - accuracy: 0.8019 - f1_m: 0.7487 - precision_m: 0.8091 - recall_m: 0.6996 - val_loss: 0.4270 - val_accuracy: 0.8225 - val_f1_m: 0.7801 - val_precision_m: 0.8245 - val_recall_m: 0.7428\n",
      "Epoch 73/130\n",
      "5709/5709 [==============================] - 11s 2ms/step - loss: 0.4356 - accuracy: 0.8135 - f1_m: 0.7640 - precision_m: 0.8278 - recall_m: 0.7136 - val_loss: 0.4279 - val_accuracy: 0.8241 - val_f1_m: 0.7763 - val_precision_m: 0.8468 - val_recall_m: 0.7195\n",
      "Epoch 74/130\n",
      "5709/5709 [==============================] - 11s 2ms/step - loss: 0.4298 - accuracy: 0.8105 - f1_m: 0.7594 - precision_m: 0.8213 - recall_m: 0.7099 - val_loss: 0.4302 - val_accuracy: 0.8235 - val_f1_m: 0.7811 - val_precision_m: 0.8282 - val_recall_m: 0.7418\n",
      "Epoch 75/130\n",
      "5709/5709 [==============================] - 12s 2ms/step - loss: 0.4315 - accuracy: 0.8147 - f1_m: 0.7625 - precision_m: 0.8425 - recall_m: 0.6990 - val_loss: 0.4315 - val_accuracy: 0.8225 - val_f1_m: 0.7789 - val_precision_m: 0.8299 - val_recall_m: 0.7370\n",
      "Epoch 76/130\n",
      "5709/5709 [==============================] - 12s 2ms/step - loss: 0.4322 - accuracy: 0.8094 - f1_m: 0.7559 - precision_m: 0.8314 - recall_m: 0.6964 - val_loss: 0.4346 - val_accuracy: 0.8183 - val_f1_m: 0.7782 - val_precision_m: 0.8124 - val_recall_m: 0.7495\n",
      "Epoch 77/130\n",
      "5709/5709 [==============================] - 11s 2ms/step - loss: 0.4301 - accuracy: 0.8052 - f1_m: 0.7497 - precision_m: 0.8281 - recall_m: 0.6894 - val_loss: 0.4314 - val_accuracy: 0.8204 - val_f1_m: 0.7679 - val_precision_m: 0.8543 - val_recall_m: 0.7000\n",
      "Epoch 78/130\n",
      "5709/5709 [==============================] - 11s 2ms/step - loss: 0.4287 - accuracy: 0.8049 - f1_m: 0.7518 - precision_m: 0.8240 - recall_m: 0.6946 - val_loss: 0.4274 - val_accuracy: 0.8256 - val_f1_m: 0.7761 - val_precision_m: 0.8551 - val_recall_m: 0.7131\n",
      "Epoch 79/130\n",
      "5709/5709 [==============================] - 11s 2ms/step - loss: 0.4286 - accuracy: 0.8061 - f1_m: 0.7505 - precision_m: 0.8293 - recall_m: 0.6894 - val_loss: 0.4291 - val_accuracy: 0.8251 - val_f1_m: 0.7796 - val_precision_m: 0.8409 - val_recall_m: 0.7295\n",
      "Epoch 80/130\n",
      "5709/5709 [==============================] - 11s 2ms/step - loss: 0.4273 - accuracy: 0.8124 - f1_m: 0.7594 - precision_m: 0.8396 - recall_m: 0.6970 - val_loss: 0.4324 - val_accuracy: 0.8251 - val_f1_m: 0.7822 - val_precision_m: 0.8342 - val_recall_m: 0.7395\n",
      "Epoch 81/130\n",
      "5709/5709 [==============================] - 11s 2ms/step - loss: 0.4225 - accuracy: 0.8156 - f1_m: 0.7655 - precision_m: 0.8357 - recall_m: 0.7088 - val_loss: 0.4354 - val_accuracy: 0.8188 - val_f1_m: 0.7696 - val_precision_m: 0.8398 - val_recall_m: 0.7131\n",
      "Epoch 82/130\n",
      "5709/5709 [==============================] - 11s 2ms/step - loss: 0.4251 - accuracy: 0.8133 - f1_m: 0.7614 - precision_m: 0.8413 - recall_m: 0.6994 - val_loss: 0.4376 - val_accuracy: 0.8214 - val_f1_m: 0.7744 - val_precision_m: 0.8392 - val_recall_m: 0.7220\n",
      "Epoch 83/130\n",
      "5709/5709 [==============================] - 11s 2ms/step - loss: 0.4220 - accuracy: 0.8089 - f1_m: 0.7569 - precision_m: 0.8284 - recall_m: 0.7012 - val_loss: 0.4317 - val_accuracy: 0.8246 - val_f1_m: 0.7742 - val_precision_m: 0.8569 - val_recall_m: 0.7083\n",
      "Epoch 84/130\n",
      "5709/5709 [==============================] - 10s 2ms/step - loss: 0.4235 - accuracy: 0.8171 - f1_m: 0.7681 - precision_m: 0.8372 - recall_m: 0.7139 - val_loss: 0.4304 - val_accuracy: 0.8214 - val_f1_m: 0.7685 - val_precision_m: 0.8568 - val_recall_m: 0.6997\n",
      "Epoch 85/130\n",
      "5709/5709 [==============================] - 10s 2ms/step - loss: 0.4281 - accuracy: 0.8096 - f1_m: 0.7583 - precision_m: 0.8239 - recall_m: 0.7056 - val_loss: 0.4307 - val_accuracy: 0.8220 - val_f1_m: 0.7767 - val_precision_m: 0.8343 - val_recall_m: 0.7297\n",
      "Epoch 86/130\n",
      "5709/5709 [==============================] - 10s 2ms/step - loss: 0.4245 - accuracy: 0.8064 - f1_m: 0.7535 - precision_m: 0.8298 - recall_m: 0.6948 - val_loss: 0.4281 - val_accuracy: 0.8256 - val_f1_m: 0.7794 - val_precision_m: 0.8455 - val_recall_m: 0.7260\n",
      "Epoch 87/130\n",
      "5709/5709 [==============================] - 11s 2ms/step - loss: 0.4283 - accuracy: 0.8133 - f1_m: 0.7607 - precision_m: 0.8398 - recall_m: 0.6999 - val_loss: 0.4273 - val_accuracy: 0.8235 - val_f1_m: 0.7790 - val_precision_m: 0.8366 - val_recall_m: 0.7321\n",
      "Epoch 88/130\n",
      "5709/5709 [==============================] - 11s 2ms/step - loss: 0.4296 - accuracy: 0.8110 - f1_m: 0.7597 - precision_m: 0.8239 - recall_m: 0.7080 - val_loss: 0.4266 - val_accuracy: 0.8272 - val_f1_m: 0.7824 - val_precision_m: 0.8453 - val_recall_m: 0.7309\n",
      "Epoch 89/130\n",
      "5709/5709 [==============================] - 11s 2ms/step - loss: 0.4152 - accuracy: 0.8166 - f1_m: 0.7652 - precision_m: 0.8404 - recall_m: 0.7062 - val_loss: 0.4328 - val_accuracy: 0.8262 - val_f1_m: 0.7829 - val_precision_m: 0.8361 - val_recall_m: 0.7392\n",
      "Epoch 90/130\n",
      "5709/5709 [==============================] - 11s 2ms/step - loss: 0.4236 - accuracy: 0.8106 - f1_m: 0.7584 - precision_m: 0.8286 - recall_m: 0.7026 - val_loss: 0.4280 - val_accuracy: 0.8283 - val_f1_m: 0.7849 - val_precision_m: 0.8408 - val_recall_m: 0.7395\n",
      "Epoch 91/130\n",
      "5709/5709 [==============================] - 11s 2ms/step - loss: 0.4192 - accuracy: 0.8161 - f1_m: 0.7630 - precision_m: 0.8344 - recall_m: 0.7060 - val_loss: 0.4321 - val_accuracy: 0.8235 - val_f1_m: 0.7821 - val_precision_m: 0.8270 - val_recall_m: 0.7449\n",
      "Epoch 92/130\n",
      "5709/5709 [==============================] - 11s 2ms/step - loss: 0.4248 - accuracy: 0.8156 - f1_m: 0.7656 - precision_m: 0.8374 - recall_m: 0.7082 - val_loss: 0.4281 - val_accuracy: 0.8251 - val_f1_m: 0.7695 - val_precision_m: 0.8744 - val_recall_m: 0.6898\n",
      "Epoch 93/130\n",
      "5709/5709 [==============================] - 11s 2ms/step - loss: 0.4194 - accuracy: 0.8170 - f1_m: 0.7677 - precision_m: 0.8435 - recall_m: 0.7090 - val_loss: 0.4302 - val_accuracy: 0.8230 - val_f1_m: 0.7763 - val_precision_m: 0.8423 - val_recall_m: 0.7235\n",
      "Epoch 94/130\n",
      "5709/5709 [==============================] - 11s 2ms/step - loss: 0.4213 - accuracy: 0.8182 - f1_m: 0.7660 - precision_m: 0.8397 - recall_m: 0.7070 - val_loss: 0.4278 - val_accuracy: 0.8251 - val_f1_m: 0.7791 - val_precision_m: 0.8438 - val_recall_m: 0.7269\n",
      "Epoch 95/130\n",
      "5709/5709 [==============================] - 11s 2ms/step - loss: 0.4144 - accuracy: 0.8192 - f1_m: 0.7686 - precision_m: 0.8472 - recall_m: 0.7073 - val_loss: 0.4269 - val_accuracy: 0.8220 - val_f1_m: 0.7725 - val_precision_m: 0.8481 - val_recall_m: 0.7123\n",
      "Epoch 96/130\n",
      "5709/5709 [==============================] - 11s 2ms/step - loss: 0.4126 - accuracy: 0.8203 - f1_m: 0.7730 - precision_m: 0.8425 - recall_m: 0.7182 - val_loss: 0.4285 - val_accuracy: 0.8241 - val_f1_m: 0.7755 - val_precision_m: 0.8503 - val_recall_m: 0.7160\n",
      "Epoch 97/130\n",
      "5709/5709 [==============================] - 12s 2ms/step - loss: 0.4153 - accuracy: 0.8208 - f1_m: 0.7719 - precision_m: 0.8442 - recall_m: 0.7145 - val_loss: 0.4259 - val_accuracy: 0.8262 - val_f1_m: 0.7756 - val_precision_m: 0.8593 - val_recall_m: 0.7096\n",
      "Epoch 98/130\n",
      "5709/5709 [==============================] - 12s 2ms/step - loss: 0.4116 - accuracy: 0.8198 - f1_m: 0.7702 - precision_m: 0.8390 - recall_m: 0.7149 - val_loss: 0.4281 - val_accuracy: 0.8251 - val_f1_m: 0.7818 - val_precision_m: 0.8353 - val_recall_m: 0.7379\n",
      "Epoch 99/130\n",
      "5709/5709 [==============================] - 12s 2ms/step - loss: 0.4158 - accuracy: 0.8166 - f1_m: 0.7680 - precision_m: 0.8299 - recall_m: 0.7175 - val_loss: 0.4311 - val_accuracy: 0.8262 - val_f1_m: 0.7757 - val_precision_m: 0.8600 - val_recall_m: 0.7093\n",
      "Epoch 100/130\n",
      "5709/5709 [==============================] - 11s 2ms/step - loss: 0.4191 - accuracy: 0.8129 - f1_m: 0.7590 - precision_m: 0.8434 - recall_m: 0.6931 - val_loss: 0.4296 - val_accuracy: 0.8241 - val_f1_m: 0.7784 - val_precision_m: 0.8413 - val_recall_m: 0.7269\n",
      "Epoch 101/130\n",
      "5709/5709 [==============================] - 11s 2ms/step - loss: 0.4129 - accuracy: 0.8150 - f1_m: 0.7628 - precision_m: 0.8414 - recall_m: 0.7002 - val_loss: 0.4256 - val_accuracy: 0.8272 - val_f1_m: 0.7852 - val_precision_m: 0.8376 - val_recall_m: 0.7419\n",
      "Epoch 102/130\n",
      "5709/5709 [==============================] - 12s 2ms/step - loss: 0.4114 - accuracy: 0.8233 - f1_m: 0.7764 - precision_m: 0.8430 - recall_m: 0.7230 - val_loss: 0.4297 - val_accuracy: 0.8277 - val_f1_m: 0.7827 - val_precision_m: 0.8476 - val_recall_m: 0.7296\n",
      "Epoch 103/130\n",
      "5709/5709 [==============================] - 12s 2ms/step - loss: 0.4197 - accuracy: 0.8157 - f1_m: 0.7636 - precision_m: 0.8365 - recall_m: 0.7053 - val_loss: 0.4333 - val_accuracy: 0.8262 - val_f1_m: 0.7840 - val_precision_m: 0.8347 - val_recall_m: 0.7417\n",
      "Epoch 104/130\n",
      "5709/5709 [==============================] - 17s 3ms/step - loss: 0.4127 - accuracy: 0.8173 - f1_m: 0.7668 - precision_m: 0.8393 - recall_m: 0.7097 - val_loss: 0.4290 - val_accuracy: 0.8283 - val_f1_m: 0.7860 - val_precision_m: 0.8389 - val_recall_m: 0.7419\n",
      "Epoch 105/130\n",
      "5709/5709 [==============================] - 19s 3ms/step - loss: 0.4044 - accuracy: 0.8238 - f1_m: 0.7753 - precision_m: 0.8518 - recall_m: 0.7149 - val_loss: 0.4285 - val_accuracy: 0.8225 - val_f1_m: 0.7761 - val_precision_m: 0.8407 - val_recall_m: 0.7235\n",
      "Epoch 106/130\n",
      "5709/5709 [==============================] - 12s 2ms/step - loss: 0.4121 - accuracy: 0.8178 - f1_m: 0.7699 - precision_m: 0.8341 - recall_m: 0.7170 - val_loss: 0.4265 - val_accuracy: 0.8267 - val_f1_m: 0.7802 - val_precision_m: 0.8487 - val_recall_m: 0.7256\n",
      "Epoch 107/130\n",
      "5709/5709 [==============================] - 11s 2ms/step - loss: 0.4137 - accuracy: 0.8142 - f1_m: 0.7612 - precision_m: 0.8376 - recall_m: 0.7006 - val_loss: 0.4337 - val_accuracy: 0.8241 - val_f1_m: 0.7802 - val_precision_m: 0.8368 - val_recall_m: 0.7344\n",
      "Epoch 108/130\n",
      "5709/5709 [==============================] - 11s 2ms/step - loss: 0.4128 - accuracy: 0.8184 - f1_m: 0.7683 - precision_m: 0.8419 - recall_m: 0.7103 - val_loss: 0.4322 - val_accuracy: 0.8220 - val_f1_m: 0.7814 - val_precision_m: 0.8219 - val_recall_m: 0.7479\n",
      "Epoch 109/130\n",
      "5709/5709 [==============================] - 11s 2ms/step - loss: 0.4093 - accuracy: 0.8191 - f1_m: 0.7683 - precision_m: 0.8411 - recall_m: 0.7105 - val_loss: 0.4367 - val_accuracy: 0.8214 - val_f1_m: 0.7818 - val_precision_m: 0.8190 - val_recall_m: 0.7517\n",
      "Epoch 110/130\n",
      "5709/5709 [==============================] - 11s 2ms/step - loss: 0.4068 - accuracy: 0.8175 - f1_m: 0.7688 - precision_m: 0.8371 - recall_m: 0.7152 - val_loss: 0.4302 - val_accuracy: 0.8272 - val_f1_m: 0.7837 - val_precision_m: 0.8415 - val_recall_m: 0.7369\n",
      "Epoch 111/130\n",
      "5709/5709 [==============================] - 11s 2ms/step - loss: 0.4131 - accuracy: 0.8233 - f1_m: 0.7755 - precision_m: 0.8436 - recall_m: 0.7214 - val_loss: 0.4366 - val_accuracy: 0.8256 - val_f1_m: 0.7762 - val_precision_m: 0.8575 - val_recall_m: 0.7121\n",
      "Epoch 112/130\n",
      "5709/5709 [==============================] - 11s 2ms/step - loss: 0.4127 - accuracy: 0.8212 - f1_m: 0.7720 - precision_m: 0.8476 - recall_m: 0.7118 - val_loss: 0.4294 - val_accuracy: 0.8267 - val_f1_m: 0.7791 - val_precision_m: 0.8521 - val_recall_m: 0.7206\n",
      "Epoch 113/130\n",
      "5709/5709 [==============================] - 11s 2ms/step - loss: 0.4066 - accuracy: 0.8203 - f1_m: 0.7702 - precision_m: 0.8473 - recall_m: 0.7089 - val_loss: 0.4361 - val_accuracy: 0.8256 - val_f1_m: 0.7765 - val_precision_m: 0.8557 - val_recall_m: 0.7136\n",
      "Epoch 114/130\n",
      "5709/5709 [==============================] - 12s 2ms/step - loss: 0.4065 - accuracy: 0.8250 - f1_m: 0.7759 - precision_m: 0.8544 - recall_m: 0.7151 - val_loss: 0.4361 - val_accuracy: 0.8251 - val_f1_m: 0.7807 - val_precision_m: 0.8397 - val_recall_m: 0.7329\n",
      "Epoch 115/130\n",
      "5709/5709 [==============================] - 11s 2ms/step - loss: 0.4121 - accuracy: 0.8170 - f1_m: 0.7662 - precision_m: 0.8446 - recall_m: 0.7044 - val_loss: 0.4301 - val_accuracy: 0.8251 - val_f1_m: 0.7816 - val_precision_m: 0.8382 - val_recall_m: 0.7359\n",
      "Epoch 116/130\n",
      "5709/5709 [==============================] - 11s 2ms/step - loss: 0.4166 - accuracy: 0.8145 - f1_m: 0.7641 - precision_m: 0.8319 - recall_m: 0.7111 - val_loss: 0.4310 - val_accuracy: 0.8241 - val_f1_m: 0.7800 - val_precision_m: 0.8377 - val_recall_m: 0.7332\n",
      "Epoch 117/130\n",
      "5709/5709 [==============================] - 11s 2ms/step - loss: 0.4096 - accuracy: 0.8185 - f1_m: 0.7665 - precision_m: 0.8443 - recall_m: 0.7045 - val_loss: 0.4272 - val_accuracy: 0.8262 - val_f1_m: 0.7780 - val_precision_m: 0.8543 - val_recall_m: 0.7172\n",
      "Epoch 118/130\n",
      "5709/5709 [==============================] - 11s 2ms/step - loss: 0.4129 - accuracy: 0.8126 - f1_m: 0.7588 - precision_m: 0.8394 - recall_m: 0.6962 - val_loss: 0.4233 - val_accuracy: 0.8256 - val_f1_m: 0.7733 - val_precision_m: 0.8678 - val_recall_m: 0.7001\n",
      "Epoch 119/130\n",
      "5709/5709 [==============================] - 11s 2ms/step - loss: 0.4031 - accuracy: 0.8259 - f1_m: 0.7788 - precision_m: 0.8465 - recall_m: 0.7249 - val_loss: 0.4327 - val_accuracy: 0.8251 - val_f1_m: 0.7811 - val_precision_m: 0.8406 - val_recall_m: 0.7331\n",
      "Epoch 120/130\n",
      "5709/5709 [==============================] - 11s 2ms/step - loss: 0.4076 - accuracy: 0.8226 - f1_m: 0.7758 - precision_m: 0.8403 - recall_m: 0.7254 - val_loss: 0.4267 - val_accuracy: 0.8256 - val_f1_m: 0.7834 - val_precision_m: 0.8350 - val_recall_m: 0.7408\n",
      "Epoch 121/130\n"
     ]
    },
    {
     "name": "stdout",
     "output_type": "stream",
     "text": [
      "5709/5709 [==============================] - 11s 2ms/step - loss: 0.4053 - accuracy: 0.8273 - f1_m: 0.7808 - precision_m: 0.8522 - recall_m: 0.7257 - val_loss: 0.4379 - val_accuracy: 0.8251 - val_f1_m: 0.7828 - val_precision_m: 0.8345 - val_recall_m: 0.7407\n",
      "Epoch 122/130\n",
      "5709/5709 [==============================] - 11s 2ms/step - loss: 0.4014 - accuracy: 0.8248 - f1_m: 0.7775 - precision_m: 0.8474 - recall_m: 0.7220 - val_loss: 0.4397 - val_accuracy: 0.8225 - val_f1_m: 0.7806 - val_precision_m: 0.8263 - val_recall_m: 0.7427\n",
      "Epoch 123/130\n",
      "5709/5709 [==============================] - 12s 2ms/step - loss: 0.4095 - accuracy: 0.8231 - f1_m: 0.7742 - precision_m: 0.8443 - recall_m: 0.7172 - val_loss: 0.4326 - val_accuracy: 0.8304 - val_f1_m: 0.7836 - val_precision_m: 0.8585 - val_recall_m: 0.7233\n",
      "Epoch 124/130\n",
      "5709/5709 [==============================] - 11s 2ms/step - loss: 0.3993 - accuracy: 0.8273 - f1_m: 0.7815 - precision_m: 0.8400 - recall_m: 0.7335 - val_loss: 0.4376 - val_accuracy: 0.8298 - val_f1_m: 0.7874 - val_precision_m: 0.8436 - val_recall_m: 0.7408\n",
      "Epoch 125/130\n",
      "5709/5709 [==============================] - 11s 2ms/step - loss: 0.3984 - accuracy: 0.8243 - f1_m: 0.7771 - precision_m: 0.8458 - recall_m: 0.7217 - val_loss: 0.4364 - val_accuracy: 0.8220 - val_f1_m: 0.7809 - val_precision_m: 0.8251 - val_recall_m: 0.7444\n",
      "Epoch 126/130\n",
      "5709/5709 [==============================] - 11s 2ms/step - loss: 0.3954 - accuracy: 0.8308 - f1_m: 0.7845 - precision_m: 0.8526 - recall_m: 0.7300 - val_loss: 0.4305 - val_accuracy: 0.8262 - val_f1_m: 0.7812 - val_precision_m: 0.8430 - val_recall_m: 0.7308\n",
      "Epoch 127/130\n",
      "5709/5709 [==============================] - 11s 2ms/step - loss: 0.3891 - accuracy: 0.8257 - f1_m: 0.7810 - precision_m: 0.8478 - recall_m: 0.7272 - val_loss: 0.4363 - val_accuracy: 0.8293 - val_f1_m: 0.7808 - val_precision_m: 0.8637 - val_recall_m: 0.7150\n",
      "Epoch 128/130\n",
      "5709/5709 [==============================] - 11s 2ms/step - loss: 0.4027 - accuracy: 0.8262 - f1_m: 0.7792 - precision_m: 0.8447 - recall_m: 0.7269 - val_loss: 0.4295 - val_accuracy: 0.8325 - val_f1_m: 0.7880 - val_precision_m: 0.8566 - val_recall_m: 0.7323\n",
      "Epoch 129/130\n",
      "5709/5709 [==============================] - 11s 2ms/step - loss: 0.3961 - accuracy: 0.8271 - f1_m: 0.7801 - precision_m: 0.8507 - recall_m: 0.7236 - val_loss: 0.4373 - val_accuracy: 0.8293 - val_f1_m: 0.7841 - val_precision_m: 0.8506 - val_recall_m: 0.7292\n",
      "Epoch 130/130\n",
      "5709/5709 [==============================] - 11s 2ms/step - loss: 0.4042 - accuracy: 0.8247 - f1_m: 0.7740 - precision_m: 0.8550 - recall_m: 0.7118 - val_loss: 0.4286 - val_accuracy: 0.8304 - val_f1_m: 0.7857 - val_precision_m: 0.8516 - val_recall_m: 0.7322\n"
     ]
    }
   ],
   "source": [
    "history = LSTM_glove.fit(X_train, y_train, epochs=130, \n",
    "                        batch_size=128, validation_data=(X_val, y_val))"
   ]
  },
  {
   "cell_type": "code",
   "execution_count": 18,
   "metadata": {},
   "outputs": [],
   "source": [
    "import pickle\n",
    "with open(\"bilstm_keras.p\", \"wb\")as f:\n",
    "    pickle.dump(LSTM_glove, f)"
   ]
  },
  {
   "cell_type": "code",
   "execution_count": 21,
   "metadata": {},
   "outputs": [
    {
     "data": {
      "image/png": "[encoded data removed]",
      "text/plain": [
       "<Figure size 1152x432 with 3 Axes>"
      ]
     },
     "metadata": {
      "needs_background": "light"
     },
     "output_type": "display_data"
    }
   ],
   "source": [
    "hist_dict = history.history\n",
    "\n",
    "trg_loss = hist_dict['loss']\n",
    "val_loss = hist_dict['val_loss']\n",
    "\n",
    "trg_f1 = hist_dict['f1_m']\n",
    "val_f1 = hist_dict['val_f1_m']\n",
    "\n",
    "trg_acc = hist_dict['accuracy']\n",
    "val_acc = hist_dict['val_accuracy']\n",
    "\n",
    "epochs = range(1, len(trg_acc) + 1)\n",
    "\n",
    "# plot losses and accuracies for training and validation \n",
    "fig = plt.figure(figsize=(16,6))\n",
    "ax = fig.add_subplot(1, 3, 1)\n",
    "plt.plot(epochs, trg_loss, marker='o', label='Training Loss')\n",
    "plt.plot(epochs, val_loss, marker='x', label='Validation Loss')\n",
    "plt.title(\"Training / Validation Loss\")\n",
    "ax.set_ylabel(\"Loss\")\n",
    "ax.set_xlabel(\"Epochs\")\n",
    "plt.legend(loc='best')\n",
    "\n",
    "ax = fig.add_subplot(1, 3, 2)\n",
    "plt.plot(epochs, trg_f1, marker='o', label='Training F1-score')\n",
    "plt.plot(epochs, val_f1, marker='^', label='Validation F1-score')\n",
    "plt.title(\"Training / F1-score\")\n",
    "ax.set_ylabel(\"F1-score\")\n",
    "ax.set_xlabel(\"Epochs\")\n",
    "plt.legend(loc='best')\n",
    "\n",
    "ax = fig.add_subplot(1, 3, 3)\n",
    "plt.plot(epochs, trg_acc, marker='o', label='Training Accuracy')\n",
    "plt.plot(epochs, val_acc, marker='^', label='Validation Accuracy')\n",
    "plt.title(\"Training / Validation Accuracy\")\n",
    "ax.set_ylabel(\"Accuracy\")\n",
    "ax.set_xlabel(\"Epochs\")\n",
    "plt.legend(loc='best')\n",
    "\n",
    "plt.show()"
   ]
  },
  {
   "cell_type": "code",
   "execution_count": 22,
   "metadata": {},
   "outputs": [
    {
     "data": {
      "text/plain": [
       "array([[0.9052956 ],\n",
       "       [0.6467035 ],\n",
       "       [0.992288  ],\n",
       "       ...,\n",
       "       [0.94535226],\n",
       "       [0.8681122 ],\n",
       "       [0.45625374]], dtype=float32)"
      ]
     },
     "execution_count": 22,
     "metadata": {},
     "output_type": "execute_result"
    }
   ],
   "source": [
    "y_pred_lstm = LSTM_glove.predict(test_tweet_pad)\n",
    "y_pred_lstm"
   ]
  },
  {
   "cell_type": "code",
   "execution_count": 24,
   "metadata": {},
   "outputs": [],
   "source": [
    "submission_lstm = pd.read_csv('data/sample_submission.csv')\n",
    "submission_lstm[\"target\"] = y_pred_lstm.round().astype('int')\n",
    "submission_lstm.to_csv(\"max_len_50_5e-4_submission_new.csv\", index=False)"
   ]
  },
  {
   "cell_type": "code",
   "execution_count": null,
   "metadata": {},
   "outputs": [],
   "source": []
  }
 ],
 "metadata": {
  "kernelspec": {
   "display_name": "Python 3",
   "language": "python",
   "name": "python3"
  },
  "language_info": {
   "codemirror_mode": {
    "name": "ipython",
    "version": 3
   },
   "file_extension": ".py",
   "mimetype": "text/x-python",
   "name": "python",
   "nbconvert_exporter": "python",
   "pygments_lexer": "ipython3",
   "version": "3.6.9"
  }
 },
 "nbformat": 4,
 "nbformat_minor": 4
}
